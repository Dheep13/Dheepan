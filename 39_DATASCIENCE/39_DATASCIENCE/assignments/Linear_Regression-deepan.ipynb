{
  "cells": [
    {
      "cell_type": "code",
      "execution_count": 1,
      "metadata": {
        "colab": {
          "base_uri": "https://localhost:8080/",
          "height": 108
        },
        "id": "IazwmPqZTKUA",
        "outputId": "f87024ad-495f-473c-e87c-3256ade2d985"
      },
      "outputs": [
        {
          "data": {
            "text/html": [
              "\n",
              "     <input type=\"file\" id=\"files-92b77bf2-f197-4dfc-85a4-905df3abf587\" name=\"files[]\" multiple disabled\n",
              "        style=\"border:none\" />\n",
              "     <output id=\"result-92b77bf2-f197-4dfc-85a4-905df3abf587\">\n",
              "      Upload widget is only available when the cell has been executed in the\n",
              "      current browser session. Please rerun this cell to enable.\n",
              "      </output>\n",
              "      <script>// Copyright 2017 Google LLC\n",
              "//\n",
              "// Licensed under the Apache License, Version 2.0 (the \"License\");\n",
              "// you may not use this file except in compliance with the License.\n",
              "// You may obtain a copy of the License at\n",
              "//\n",
              "//      http://www.apache.org/licenses/LICENSE-2.0\n",
              "//\n",
              "// Unless required by applicable law or agreed to in writing, software\n",
              "// distributed under the License is distributed on an \"AS IS\" BASIS,\n",
              "// WITHOUT WARRANTIES OR CONDITIONS OF ANY KIND, either express or implied.\n",
              "// See the License for the specific language governing permissions and\n",
              "// limitations under the License.\n",
              "\n",
              "/**\n",
              " * @fileoverview Helpers for google.colab Python module.\n",
              " */\n",
              "(function(scope) {\n",
              "function span(text, styleAttributes = {}) {\n",
              "  const element = document.createElement('span');\n",
              "  element.textContent = text;\n",
              "  for (const key of Object.keys(styleAttributes)) {\n",
              "    element.style[key] = styleAttributes[key];\n",
              "  }\n",
              "  return element;\n",
              "}\n",
              "\n",
              "// Max number of bytes which will be uploaded at a time.\n",
              "const MAX_PAYLOAD_SIZE = 100 * 1024;\n",
              "\n",
              "function _uploadFiles(inputId, outputId) {\n",
              "  const steps = uploadFilesStep(inputId, outputId);\n",
              "  const outputElement = document.getElementById(outputId);\n",
              "  // Cache steps on the outputElement to make it available for the next call\n",
              "  // to uploadFilesContinue from Python.\n",
              "  outputElement.steps = steps;\n",
              "\n",
              "  return _uploadFilesContinue(outputId);\n",
              "}\n",
              "\n",
              "// This is roughly an async generator (not supported in the browser yet),\n",
              "// where there are multiple asynchronous steps and the Python side is going\n",
              "// to poll for completion of each step.\n",
              "// This uses a Promise to block the python side on completion of each step,\n",
              "// then passes the result of the previous step as the input to the next step.\n",
              "function _uploadFilesContinue(outputId) {\n",
              "  const outputElement = document.getElementById(outputId);\n",
              "  const steps = outputElement.steps;\n",
              "\n",
              "  const next = steps.next(outputElement.lastPromiseValue);\n",
              "  return Promise.resolve(next.value.promise).then((value) => {\n",
              "    // Cache the last promise value to make it available to the next\n",
              "    // step of the generator.\n",
              "    outputElement.lastPromiseValue = value;\n",
              "    return next.value.response;\n",
              "  });\n",
              "}\n",
              "\n",
              "/**\n",
              " * Generator function which is called between each async step of the upload\n",
              " * process.\n",
              " * @param {string} inputId Element ID of the input file picker element.\n",
              " * @param {string} outputId Element ID of the output display.\n",
              " * @return {!Iterable<!Object>} Iterable of next steps.\n",
              " */\n",
              "function* uploadFilesStep(inputId, outputId) {\n",
              "  const inputElement = document.getElementById(inputId);\n",
              "  inputElement.disabled = false;\n",
              "\n",
              "  const outputElement = document.getElementById(outputId);\n",
              "  outputElement.innerHTML = '';\n",
              "\n",
              "  const pickedPromise = new Promise((resolve) => {\n",
              "    inputElement.addEventListener('change', (e) => {\n",
              "      resolve(e.target.files);\n",
              "    });\n",
              "  });\n",
              "\n",
              "  const cancel = document.createElement('button');\n",
              "  inputElement.parentElement.appendChild(cancel);\n",
              "  cancel.textContent = 'Cancel upload';\n",
              "  const cancelPromise = new Promise((resolve) => {\n",
              "    cancel.onclick = () => {\n",
              "      resolve(null);\n",
              "    };\n",
              "  });\n",
              "\n",
              "  // Wait for the user to pick the files.\n",
              "  const files = yield {\n",
              "    promise: Promise.race([pickedPromise, cancelPromise]),\n",
              "    response: {\n",
              "      action: 'starting',\n",
              "    }\n",
              "  };\n",
              "\n",
              "  cancel.remove();\n",
              "\n",
              "  // Disable the input element since further picks are not allowed.\n",
              "  inputElement.disabled = true;\n",
              "\n",
              "  if (!files) {\n",
              "    return {\n",
              "      response: {\n",
              "        action: 'complete',\n",
              "      }\n",
              "    };\n",
              "  }\n",
              "\n",
              "  for (const file of files) {\n",
              "    const li = document.createElement('li');\n",
              "    li.append(span(file.name, {fontWeight: 'bold'}));\n",
              "    li.append(span(\n",
              "        `(${file.type || 'n/a'}) - ${file.size} bytes, ` +\n",
              "        `last modified: ${\n",
              "            file.lastModifiedDate ? file.lastModifiedDate.toLocaleDateString() :\n",
              "                                    'n/a'} - `));\n",
              "    const percent = span('0% done');\n",
              "    li.appendChild(percent);\n",
              "\n",
              "    outputElement.appendChild(li);\n",
              "\n",
              "    const fileDataPromise = new Promise((resolve) => {\n",
              "      const reader = new FileReader();\n",
              "      reader.onload = (e) => {\n",
              "        resolve(e.target.result);\n",
              "      };\n",
              "      reader.readAsArrayBuffer(file);\n",
              "    });\n",
              "    // Wait for the data to be ready.\n",
              "    let fileData = yield {\n",
              "      promise: fileDataPromise,\n",
              "      response: {\n",
              "        action: 'continue',\n",
              "      }\n",
              "    };\n",
              "\n",
              "    // Use a chunked sending to avoid message size limits. See b/62115660.\n",
              "    let position = 0;\n",
              "    do {\n",
              "      const length = Math.min(fileData.byteLength - position, MAX_PAYLOAD_SIZE);\n",
              "      const chunk = new Uint8Array(fileData, position, length);\n",
              "      position += length;\n",
              "\n",
              "      const base64 = btoa(String.fromCharCode.apply(null, chunk));\n",
              "      yield {\n",
              "        response: {\n",
              "          action: 'append',\n",
              "          file: file.name,\n",
              "          data: base64,\n",
              "        },\n",
              "      };\n",
              "\n",
              "      let percentDone = fileData.byteLength === 0 ?\n",
              "          100 :\n",
              "          Math.round((position / fileData.byteLength) * 100);\n",
              "      percent.textContent = `${percentDone}% done`;\n",
              "\n",
              "    } while (position < fileData.byteLength);\n",
              "  }\n",
              "\n",
              "  // All done.\n",
              "  yield {\n",
              "    response: {\n",
              "      action: 'complete',\n",
              "    }\n",
              "  };\n",
              "}\n",
              "\n",
              "scope.google = scope.google || {};\n",
              "scope.google.colab = scope.google.colab || {};\n",
              "scope.google.colab._files = {\n",
              "  _uploadFiles,\n",
              "  _uploadFilesContinue,\n",
              "};\n",
              "})(self);\n",
              "</script> "
            ],
            "text/plain": [
              "<IPython.core.display.HTML object>"
            ]
          },
          "metadata": {},
          "output_type": "display_data"
        },
        {
          "name": "stdout",
          "output_type": "stream",
          "text": [
            "Saving kaggle.json to kaggle.json\n"
          ]
        },
        {
          "data": {
            "text/plain": [
              "{'kaggle.json': b'{\"username\":\"deepanshanmugam\",\"key\":\"c0b8b2f3db364205fece69dccfe97e0a\"}'}"
            ]
          },
          "execution_count": 1,
          "metadata": {},
          "output_type": "execute_result"
        }
      ],
      "source": [
        "from google.colab import files\n",
        "\n",
        "# This will prompt you to select the kaggle.json file\n",
        "files.upload()"
      ]
    },
    {
      "cell_type": "code",
      "execution_count": 2,
      "metadata": {
        "id": "TH_OZXHPTa9f"
      },
      "outputs": [],
      "source": [
        "!mkdir -p ~/.kaggle\n",
        "!cp kaggle.json ~/.kaggle/\n",
        "!chmod 600 ~/.kaggle/kaggle.json"
      ]
    },
    {
      "cell_type": "code",
      "execution_count": 3,
      "metadata": {
        "colab": {
          "base_uri": "https://localhost:8080/"
        },
        "id": "joHKqjyjTfBP",
        "outputId": "fb09b753-0e97-4d07-b8af-65c661bd1eef"
      },
      "outputs": [
        {
          "name": "stdout",
          "output_type": "stream",
          "text": [
            "Downloading copy-of-linear-regression-competition-mia.zip to /content\n",
            "100% 71.0M/71.3M [00:02<00:00, 36.4MB/s]\n",
            "100% 71.3M/71.3M [00:02<00:00, 26.9MB/s]\n"
          ]
        }
      ],
      "source": [
        "!kaggle competitions download -c copy-of-linear-regression-competition-mia"
      ]
    },
    {
      "cell_type": "code",
      "execution_count": 4,
      "metadata": {
        "colab": {
          "base_uri": "https://localhost:8080/"
        },
        "id": "tRfIEMAQSzYm",
        "outputId": "c8fbc5e4-7656-45c7-ec94-727fd3ed7345"
      },
      "outputs": [
        {
          "name": "stdout",
          "output_type": "stream",
          "text": [
            "Mounted at /content/drive\n"
          ]
        }
      ],
      "source": [
        "from google.colab import drive\n",
        "drive.mount('/content/drive')\n"
      ]
    },
    {
      "cell_type": "code",
      "execution_count": 6,
      "metadata": {
        "colab": {
          "base_uri": "https://localhost:8080/"
        },
        "id": "LRJpvFRJTnYy",
        "outputId": "023acc45-3a37-43ed-fccf-0bd67bac338e"
      },
      "outputs": [
        {
          "name": "stdout",
          "output_type": "stream",
          "text": [
            "Archive:  /content/copy-of-linear-regression-competition-mia.zip\n",
            "  inflating: /content/dataset/sample_submission.csv  \n",
            "  inflating: /content/dataset/test.csv  \n",
            "  inflating: /content/dataset/train.csv  \n"
          ]
        }
      ],
      "source": [
        "!unzip '/content/copy-of-linear-regression-competition-mia.zip' -d '/content/dataset'"
      ]
    },
    {
      "cell_type": "code",
      "execution_count": 7,
      "metadata": {
        "id": "1Mmsyh77TCjp"
      },
      "outputs": [],
      "source": [
        "submission_path = '/content/drive/My Drive/KaggleSubmissions/submission_linear_regression.csv'\n"
      ]
    },
    {
      "cell_type": "code",
      "execution_count": 14,
      "metadata": {
        "colab": {
          "base_uri": "https://localhost:8080/"
        },
        "id": "5r_0rWi0TuiT",
        "outputId": "a70d5c6b-acb8-40bb-e152-90a6a2858e4d"
      },
      "outputs": [
        {
          "name": "stdout",
          "output_type": "stream",
          "text": [
            "Index(['Unnamed: 0', 'id', 'timestamp', 'hour', 'day', 'month', 'datetime',\n",
            "       'timezone', 'source', 'destination', 'cab_type', 'product_id', 'name',\n",
            "       'price', 'distance', 'surge_multiplier', 'latitude', 'longitude',\n",
            "       'temperature', 'apparentTemperature', 'short_summary', 'long_summary',\n",
            "       'precipIntensity', 'precipProbability', 'humidity', 'windSpeed',\n",
            "       'windGust', 'windGustTime', 'visibility', 'temperatureHigh',\n",
            "       'temperatureHighTime', 'temperatureLow', 'temperatureLowTime',\n",
            "       'apparentTemperatureHigh', 'apparentTemperatureHighTime',\n",
            "       'apparentTemperatureLow', 'apparentTemperatureLowTime', 'icon',\n",
            "       'dewPoint', 'pressure', 'windBearing', 'cloudCover', 'uvIndex',\n",
            "       'visibility.1', 'ozone', 'sunriseTime', 'sunsetTime', 'moonPhase',\n",
            "       'precipIntensityMax', 'uvIndexTime', 'temperatureMin',\n",
            "       'temperatureMinTime', 'temperatureMax', 'temperatureMaxTime',\n",
            "       'apparentTemperatureMin', 'apparentTemperatureMinTime',\n",
            "       'apparentTemperatureMax', 'apparentTemperatureMaxTime'],\n",
            "      dtype='object')\n"
          ]
        }
      ],
      "source": [
        "import pandas as pd\n",
        "\n",
        "# Path to your dataset stored in Google Drive\n",
        "train_data = 'train.csv'\n",
        "test_data = 'test.csv'\n",
        "\n",
        "\n",
        "\n",
        "train_df = pd.read_csv(train_data)\n",
        "test_df = pd.read_csv(test_data)\n",
        "\n",
        "print(train_df.columns)\n"
      ]
    },
    {
      "cell_type": "code",
      "execution_count": 36,
      "metadata": {
        "colab": {
          "base_uri": "https://localhost:8080/"
        },
        "id": "ZMfNvifpVQqc",
        "outputId": "938ebb75-a2a5-4c4f-c7fd-a22f18846f85"
      },
      "outputs": [
        {
          "name": "stdout",
          "output_type": "stream",
          "text": [
            "RMSE scores across the folds: [2.45755371 2.48904707 2.49515388 2.50068659 2.51912948]\n",
            "Mean RMSE score: 2.4923141458474225\n"
          ]
        }
      ],
      "source": [
        "import pandas as pd\n",
        "import numpy as np\n",
        "from sklearn.model_selection import train_test_split, cross_val_score\n",
        "from sklearn.linear_model import LinearRegression\n",
        "from sklearn.metrics import mean_absolute_error, mean_squared_error, make_scorer\n",
        "from sklearn.preprocessing import StandardScaler\n",
        "\n",
        "# Load your data\n",
        "train_data_path = 'train.csv'\n",
        "test_data_path = 'test.csv'\n",
        "train_data = pd.read_csv(train_data_path\n",
        "test_data = pd.read_csv(test_data_path)\n",
        "\n",
        "# Data Preprocessing\n",
        "categorical_vars = ['source', 'destination', 'cab_type', 'product_id', 'name', 'short_summary', 'long_summary', 'icon']\n",
        "\n",
        "\n",
        "\n",
        "# Apply get_dummies() for categorical variables\n",
        "train_data_encoded = pd.get_dummies(train_data, columns=categorical_vars, drop_first=True)\n",
        "test_data_encoded = pd.get_dummies(test_data, columns=categorical_vars, drop_first=True)\n",
        "\n",
        "# Ensure 'datetime' is converted properly and retained for feature engineering\n",
        "train_data_encoded['datetime'] = pd.to_datetime(train_data_encoded['datetime'], errors='coerce')\n",
        "test_data_encoded['datetime'] = pd.to_datetime(test_data_encoded['datetime'], errors='coerce')\n",
        "\n",
        "# Extract datetime features\n",
        "for df in [train_data_encoded, test_data_encoded]:\n",
        "    df['hour'] = df['datetime'].dt.hour\n",
        "    df['day_of_week'] = df['datetime'].dt.dayofweek\n",
        "    df['month'] = df['datetime'].dt.month\n",
        "\n",
        "# Drop the original 'datetime' column after extracting features\n",
        "train_data_encoded.drop('datetime', axis=1, inplace=True, errors='ignore')\n",
        "test_data_encoded.drop('datetime', axis=1, inplace=True, errors='ignore')\n",
        "\n",
        "# Align train and test data to have the same columns, filling missing with 0s\n",
        "common_columns = [col for col in train_data_encoded.columns if col in test_data_encoded.columns and col not in ['id', 'timezone', 'price']]\n",
        "X = train_data_encoded[common_columns]\n",
        "y = train_data['price']\n",
        "X_test_aligned = test_data_encoded[common_columns]\n",
        "\n",
        "# Model Training and Evaluation\n",
        "model = LinearRegression()\n",
        "\n",
        "# Cross-validation with 5 folds\n",
        "rmse_scorer = make_scorer(mean_squared_error, squared=False)  # RMSE scorer\n",
        "cross_val_scores = cross_val_score(model, X, y, cv=5, scoring=rmse_scorer)\n",
        "\n",
        "print(f'RMSE scores across the folds: {cross_val_scores}')\n",
        "print(f'Mean RMSE score: {np.mean(cross_val_scores)}')\n",
        "\n",
        "model.fit(X, y)\n",
        "\n",
        "# Kaggle Submission\n",
        "test_predictions = model.predict(X_test_aligned)\n",
        "\n",
        "submission_df = pd.DataFrame({\n",
        "    'price': np.round(test_predictions, 1),\n",
        "    'id': test_data.iloc[:, 0]\n",
        "})\n",
        "submission_df.to_csv(submission_path, index=False)\n"
      ]
    }
  ],
  "metadata": {
    "accelerator": "GPU",
    "colab": {
      "gpuType": "V100",
      "machine_shape": "hm",
      "provenance": []
    },
    "kernelspec": {
      "display_name": "Python 3",
      "name": "python3"
    },
    "language_info": {
      "name": "python"
    }
  },
  "nbformat": 4,
  "nbformat_minor": 0
}
