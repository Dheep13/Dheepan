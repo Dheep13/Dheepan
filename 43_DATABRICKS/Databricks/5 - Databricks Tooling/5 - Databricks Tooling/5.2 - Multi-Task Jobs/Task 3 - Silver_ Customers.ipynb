{
 "cells": [
  {
   "cell_type": "code",
   "execution_count": 0,
   "metadata": {
    "application/vnd.databricks.v1+cell": {
     "cellMetadata": {},
     "inputWidgets": {},
     "nuid": "5cf6eeee-50a0-4f83-8ac9-7bc31ec46d44",
     "showTitle": false,
     "title": ""
    }
   },
   "outputs": [],
   "source": [
    "%run ../../Includes/Copy-Datasets"
   ]
  },
  {
   "cell_type": "code",
   "execution_count": 0,
   "metadata": {
    "application/vnd.databricks.v1+cell": {
     "cellMetadata": {},
     "inputWidgets": {},
     "nuid": "ae8320f0-e7a2-40f2-8433-0277be3356df",
     "showTitle": false,
     "title": ""
    }
   },
   "outputs": [],
   "source": [
    "from pyspark.sql import functions as F\n",
    "from pyspark.sql.window import Window"
   ]
  },
  {
   "cell_type": "code",
   "execution_count": 0,
   "metadata": {
    "application/vnd.databricks.v1+cell": {
     "cellMetadata": {},
     "inputWidgets": {},
     "nuid": "e89af557-a248-42de-8c48-6fce6358cb85",
     "showTitle": false,
     "title": ""
    }
   },
   "outputs": [],
   "source": [
    "schema = \"customer_id STRING, email STRING, first_name STRING, last_name STRING, gender STRING, street STRING, city STRING, country_code STRING, row_status STRING, row_time timestamp\""
   ]
  },
  {
   "cell_type": "code",
   "execution_count": 0,
   "metadata": {
    "application/vnd.databricks.v1+cell": {
     "cellMetadata": {},
     "inputWidgets": {},
     "nuid": "c0e9b44f-8e6b-4ecd-a157-57bc775855c6",
     "showTitle": false,
     "title": ""
    }
   },
   "outputs": [],
   "source": [
    "def batch_upsert(microBatchDF, batchId):\n",
    "    window = Window.partitionBy(\"customer_id\").orderBy(F.col(\"row_time\").desc())\n",
    "    \n",
    "    (microBatchDF.filter(F.col(\"row_status\").isin([\"insert\", \"update\"]))\n",
    "                 .withColumn(\"rank\", F.rank().over(window))\n",
    "                 .filter(\"rank == 1\")\n",
    "                 .drop(\"rank\")\n",
    "                 .createOrReplaceTempView(\"ranked_updates\"))\n",
    "    \n",
    "    query = \"\"\"\n",
    "        MERGE INTO customers_silver c\n",
    "        USING ranked_updates r\n",
    "        ON c.customer_id=r.customer_id\n",
    "            WHEN MATCHED AND c.row_time < r.row_time\n",
    "              THEN UPDATE SET *\n",
    "            WHEN NOT MATCHED\n",
    "              THEN INSERT *\n",
    "    \"\"\"\n",
    "    \n",
    "    microBatchDF.sparkSession.sql(query)"
   ]
  },
  {
   "cell_type": "code",
   "execution_count": 0,
   "metadata": {
    "application/vnd.databricks.v1+cell": {
     "cellMetadata": {},
     "inputWidgets": {},
     "nuid": "82e404db-4725-43bc-84b4-8e5df31ef62b",
     "showTitle": false,
     "title": ""
    }
   },
   "outputs": [],
   "source": [
    "%sql\n",
    "CREATE TABLE IF NOT EXISTS customers_silver\n",
    "(customer_id STRING, email STRING, first_name STRING, last_name STRING, gender STRING, street STRING, city STRING, country STRING, row_time TIMESTAMP)"
   ]
  },
  {
   "cell_type": "code",
   "execution_count": 0,
   "metadata": {
    "application/vnd.databricks.v1+cell": {
     "cellMetadata": {},
     "inputWidgets": {},
     "nuid": "37e9ec35-a341-4e0a-9abb-67a361d2181b",
     "showTitle": false,
     "title": ""
    }
   },
   "outputs": [],
   "source": [
    "df_country_lookup = spark.read.json(f\"{dataset_bookstore}/country_lookup\")"
   ]
  },
  {
   "cell_type": "code",
   "execution_count": 0,
   "metadata": {
    "application/vnd.databricks.v1+cell": {
     "cellMetadata": {},
     "inputWidgets": {},
     "nuid": "e05c09ea-3065-4443-b196-5df2c8a86a5f",
     "showTitle": false,
     "title": ""
    }
   },
   "outputs": [],
   "source": [
    "query = (spark.readStream\n",
    "                  .table(\"bronze\")\n",
    "                  .filter(\"topic = 'customers'\")\n",
    "                  .select(F.from_json(F.col(\"value\").cast(\"string\"), schema).alias(\"v\"))\n",
    "                  .select(\"v.*\")\n",
    "                  .join(F.broadcast(df_country_lookup), F.col(\"country_code\") == F.col(\"code\") , \"inner\")\n",
    "               .writeStream\n",
    "                  .foreachBatch(batch_upsert)\n",
    "                  .option(\"checkpointLocation\", \"dbfs:/mnt/demo_pro/checkpoints/customers_silver\")\n",
    "                  .trigger(availableNow=True)\n",
    "                  .start()\n",
    "          )\n",
    "\n",
    "query.awaitTermination()"
   ]
  },
  {
   "cell_type": "code",
   "execution_count": 0,
   "metadata": {
    "application/vnd.databricks.v1+cell": {
     "cellMetadata": {},
     "inputWidgets": {},
     "nuid": "03a032b2-6f99-480c-a5a8-ec9f5c954954",
     "showTitle": false,
     "title": ""
    }
   },
   "outputs": [],
   "source": [
    "%sql\n",
    "ALTER TABLE customers_silver \n",
    "SET TBLPROPERTIES (delta.enableChangeDataFeed = true);"
   ]
  }
 ],
 "metadata": {
  "application/vnd.databricks.v1+notebook": {
   "dashboards": [],
   "language": "python",
   "notebookMetadata": {},
   "notebookName": "Task 3 - Silver: Customers",
   "widgets": {}
  }
 },
 "nbformat": 4,
 "nbformat_minor": 0
}
