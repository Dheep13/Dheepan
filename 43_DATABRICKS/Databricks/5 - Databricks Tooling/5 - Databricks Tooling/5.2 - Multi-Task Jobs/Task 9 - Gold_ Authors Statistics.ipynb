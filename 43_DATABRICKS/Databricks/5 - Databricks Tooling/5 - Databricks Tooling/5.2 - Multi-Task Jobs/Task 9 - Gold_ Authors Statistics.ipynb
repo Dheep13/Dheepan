{
 "cells": [
  {
   "cell_type": "code",
   "execution_count": 0,
   "metadata": {
    "application/vnd.databricks.v1+cell": {
     "cellMetadata": {},
     "inputWidgets": {},
     "nuid": "4b4fa0b9-d428-4f4c-957c-291c81c0417a",
     "showTitle": false,
     "title": ""
    }
   },
   "outputs": [],
   "source": [
    "%run ../../Includes/Copy-Datasets"
   ]
  },
  {
   "cell_type": "code",
   "execution_count": 0,
   "metadata": {
    "application/vnd.databricks.v1+cell": {
     "cellMetadata": {},
     "inputWidgets": {},
     "nuid": "1d0495dd-2d63-438d-8301-fe333fcfe7cd",
     "showTitle": false,
     "title": ""
    }
   },
   "outputs": [],
   "source": [
    "from pyspark.sql import functions as F"
   ]
  },
  {
   "cell_type": "code",
   "execution_count": 0,
   "metadata": {
    "application/vnd.databricks.v1+cell": {
     "cellMetadata": {},
     "inputWidgets": {},
     "nuid": "53f57ba3-a735-48ba-9023-a4b53fee512f",
     "showTitle": false,
     "title": ""
    }
   },
   "outputs": [],
   "source": [
    "query = (spark.readStream\n",
    "                 .table(\"books_sales\")\n",
    "                 .withWatermark(\"order_timestamp\", \"10 minutes\")\n",
    "                 .groupBy(\n",
    "                     F.window(\"order_timestamp\", \"5 minutes\").alias(\"time\"),\n",
    "                     \"author\")\n",
    "                 .agg(\n",
    "                     F.count(\"order_id\").alias(\"orders_count\"),\n",
    "                     F.avg(\"quantity\").alias (\"avg_quantity\"))\n",
    "              .writeStream\n",
    "                 .option(\"checkpointLocation\", f\"dbfs:/mnt/demo_pro/checkpoints/authors_stats\")\n",
    "                 .trigger(availableNow=True)\n",
    "                 .table(\"authors_stats\")\n",
    "            )\n",
    "\n",
    "query.awaitTermination()"
   ]
  }
 ],
 "metadata": {
  "application/vnd.databricks.v1+notebook": {
   "dashboards": [],
   "language": "python",
   "notebookMetadata": {},
   "notebookName": "Task 9 - Gold: Authors Statistics",
   "widgets": {}
  }
 },
 "nbformat": 4,
 "nbformat_minor": 0
}
