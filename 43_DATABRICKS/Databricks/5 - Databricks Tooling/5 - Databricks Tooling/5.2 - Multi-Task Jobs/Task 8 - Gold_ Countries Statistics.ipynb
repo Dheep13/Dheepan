{
 "cells": [
  {
   "cell_type": "code",
   "execution_count": 0,
   "metadata": {
    "application/vnd.databricks.v1+cell": {
     "cellMetadata": {},
     "inputWidgets": {},
     "nuid": "5ecb8ee5-f7e6-4fb1-80e4-835664d5e5c4",
     "showTitle": false,
     "title": ""
    }
   },
   "outputs": [],
   "source": [
    "%run ../../Includes/Copy-Datasets"
   ]
  },
  {
   "cell_type": "code",
   "execution_count": 0,
   "metadata": {
    "application/vnd.databricks.v1+cell": {
     "cellMetadata": {},
     "inputWidgets": {},
     "nuid": "471be5de-c359-4d39-9931-121b172fcf65",
     "showTitle": false,
     "title": ""
    }
   },
   "outputs": [],
   "source": [
    "%sql\n",
    "\n",
    "CREATE VIEW IF NOT EXISTS countries_stats_vw AS (\n",
    "  SELECT country, date_trunc(\"DD\", order_timestamp) order_date, count(order_id) orders_count, sum(quantity) books_count\n",
    "  FROM customers_orders\n",
    "  GROUP BY country, date_trunc(\"DD\", order_timestamp)\n",
    ")"
   ]
  }
 ],
 "metadata": {
  "application/vnd.databricks.v1+notebook": {
   "dashboards": [],
   "language": "python",
   "notebookMetadata": {},
   "notebookName": "Task 8 - Gold: Countries Statistics",
   "widgets": {}
  }
 },
 "nbformat": 4,
 "nbformat_minor": 0
}
