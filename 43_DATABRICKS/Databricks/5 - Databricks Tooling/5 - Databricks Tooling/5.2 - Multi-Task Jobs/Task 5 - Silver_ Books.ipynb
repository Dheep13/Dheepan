{
 "cells": [
  {
   "cell_type": "code",
   "execution_count": 0,
   "metadata": {
    "application/vnd.databricks.v1+cell": {
     "cellMetadata": {},
     "inputWidgets": {},
     "nuid": "75bd3cd2-cde2-45ba-8bf8-40c2a04cd824",
     "showTitle": false,
     "title": ""
    }
   },
   "outputs": [],
   "source": [
    "%run ../../Includes/Copy-Datasets"
   ]
  },
  {
   "cell_type": "code",
   "execution_count": 0,
   "metadata": {
    "application/vnd.databricks.v1+cell": {
     "cellMetadata": {},
     "inputWidgets": {},
     "nuid": "74a94a6e-dc22-44d4-8e6a-36ac4ae94ec1",
     "showTitle": false,
     "title": ""
    }
   },
   "outputs": [],
   "source": [
    "from pyspark.sql import functions as F"
   ]
  },
  {
   "cell_type": "code",
   "execution_count": 0,
   "metadata": {
    "application/vnd.databricks.v1+cell": {
     "cellMetadata": {},
     "inputWidgets": {},
     "nuid": "aa9ccfcc-9cfd-47e3-ae90-835ad4a50359",
     "showTitle": false,
     "title": ""
    }
   },
   "outputs": [],
   "source": [
    "def type2_upsert(microBatchDF, batch):\n",
    "    microBatchDF.createOrReplaceTempView(\"updates\")\n",
    "    \n",
    "    sql_query = \"\"\"\n",
    "        MERGE INTO books_silver\n",
    "        USING (\n",
    "            SELECT updates.book_id as merge_key, updates.*\n",
    "            FROM updates\n",
    "\n",
    "            UNION ALL\n",
    "\n",
    "            SELECT NULL as merge_key, updates.*\n",
    "            FROM updates\n",
    "            JOIN books_silver ON updates.book_id = books_silver.book_id\n",
    "            WHERE books_silver.current = true AND updates.price <> books_silver.price\n",
    "          ) staged_updates\n",
    "        ON books_silver.book_id = merge_key \n",
    "        WHEN MATCHED AND books_silver.current = true AND books_silver.price <> staged_updates.price THEN\n",
    "          UPDATE SET current = false, end_date = staged_updates.updated\n",
    "        WHEN NOT MATCHED THEN\n",
    "          INSERT (book_id, title, author, price, current, effective_date, end_date)\n",
    "          VALUES (staged_updates.book_id, staged_updates.title, staged_updates.author, staged_updates.price, true, staged_updates.updated, NULL)\n",
    "    \"\"\"\n",
    "    \n",
    "    microBatchDF.sparkSession.sql(sql_query)"
   ]
  },
  {
   "cell_type": "code",
   "execution_count": 0,
   "metadata": {
    "application/vnd.databricks.v1+cell": {
     "cellMetadata": {},
     "inputWidgets": {},
     "nuid": "13b1ab9c-536e-4d10-8fd8-75ef379968d5",
     "showTitle": false,
     "title": ""
    }
   },
   "outputs": [],
   "source": [
    "%sql\n",
    "CREATE TABLE IF NOT EXISTS books_silver\n",
    "(book_id STRING, title STRING, author STRING, price DOUBLE, current BOOLEAN, effective_date TIMESTAMP, end_date TIMESTAMP)"
   ]
  },
  {
   "cell_type": "code",
   "execution_count": 0,
   "metadata": {
    "application/vnd.databricks.v1+cell": {
     "cellMetadata": {},
     "inputWidgets": {},
     "nuid": "ebe42226-5ad8-4911-9a25-7bef83c6c28c",
     "showTitle": false,
     "title": ""
    }
   },
   "outputs": [],
   "source": [
    "def porcess_books():\n",
    "    schema = \"book_id STRING, title STRING, author STRING, price DOUBLE, updated TIMESTAMP\"\n",
    " \n",
    "    query = (spark.readStream\n",
    "                    .table(\"bronze\")\n",
    "                    .filter(\"topic = 'books'\")\n",
    "                    .select(F.from_json(F.col(\"value\").cast(\"string\"), schema).alias(\"v\"))\n",
    "                    .select(\"v.*\")\n",
    "                 .writeStream\n",
    "                    .foreachBatch(type2_upsert)\n",
    "                    .option(\"checkpointLocation\", \"dbfs:/mnt/demo_pro/checkpoints/books_silver\")\n",
    "                    .trigger(availableNow=True)\n",
    "                    .start()\n",
    "            )\n",
    "    \n",
    "    query.awaitTermination()\n",
    "    \n",
    "porcess_books()"
   ]
  },
  {
   "cell_type": "code",
   "execution_count": 0,
   "metadata": {
    "application/vnd.databricks.v1+cell": {
     "cellMetadata": {},
     "inputWidgets": {},
     "nuid": "9eace5af-10ce-4cb3-9c66-89bf141ab50f",
     "showTitle": false,
     "title": ""
    }
   },
   "outputs": [],
   "source": [
    "%sql\n",
    "CREATE OR REPLACE TABLE current_books\n",
    "AS SELECT book_id, title, author, price\n",
    "   FROM books_silver\n",
    "   WHERE current IS TRUE"
   ]
  }
 ],
 "metadata": {
  "application/vnd.databricks.v1+notebook": {
   "dashboards": [],
   "language": "python",
   "notebookMetadata": {},
   "notebookName": "Task 5 - Silver: Books",
   "widgets": {}
  }
 },
 "nbformat": 4,
 "nbformat_minor": 0
}
