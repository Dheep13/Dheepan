{
 "cells": [
  {
   "cell_type": "code",
   "execution_count": 0,
   "metadata": {
    "application/vnd.databricks.v1+cell": {
     "cellMetadata": {},
     "inputWidgets": {},
     "nuid": "d595bc58-630b-400c-8b3e-f2f15be69bfd",
     "showTitle": false,
     "title": ""
    }
   },
   "outputs": [],
   "source": [
    "%run ../../Includes/Copy-Datasets"
   ]
  },
  {
   "cell_type": "code",
   "execution_count": 0,
   "metadata": {
    "application/vnd.databricks.v1+cell": {
     "cellMetadata": {},
     "inputWidgets": {},
     "nuid": "3df41b2f-55b3-4017-ad06-6e05d9ce6f19",
     "showTitle": false,
     "title": ""
    }
   },
   "outputs": [],
   "source": [
    "from pyspark.sql import functions as F"
   ]
  },
  {
   "cell_type": "code",
   "execution_count": 0,
   "metadata": {
    "application/vnd.databricks.v1+cell": {
     "cellMetadata": {},
     "inputWidgets": {},
     "nuid": "ca242bb4-c2b9-4774-b688-4c990fa81f4f",
     "showTitle": false,
     "title": ""
    }
   },
   "outputs": [],
   "source": [
    "def process_books_sales():\n",
    "    \n",
    "    orders_df = (spark.readStream.table(\"orders_silver\")\n",
    "                        .withColumn(\"book\", F.explode(\"books\"))\n",
    "                )\n",
    "\n",
    "    books_df = spark.read.table(\"current_books\")\n",
    "\n",
    "    query = (orders_df\n",
    "                  .join(books_df, orders_df.book.book_id == books_df.book_id, \"inner\")\n",
    "                  .writeStream\n",
    "                     .outputMode(\"append\")\n",
    "                     .option(\"checkpointLocation\", \"dbfs:/mnt/demo_pro/checkpoints/books_sales\")\n",
    "                     .trigger(availableNow=True)\n",
    "                     .table(\"books_sales\")\n",
    "    )\n",
    "\n",
    "    query.awaitTermination()\n",
    "    \n",
    "process_books_sales()"
   ]
  }
 ],
 "metadata": {
  "application/vnd.databricks.v1+notebook": {
   "dashboards": [],
   "language": "python",
   "notebookMetadata": {
    "pythonIndentUnit": 4
   },
   "notebookName": "Task 7 - Silver: Books Sales",
   "widgets": {}
  }
 },
 "nbformat": 4,
 "nbformat_minor": 0
}
