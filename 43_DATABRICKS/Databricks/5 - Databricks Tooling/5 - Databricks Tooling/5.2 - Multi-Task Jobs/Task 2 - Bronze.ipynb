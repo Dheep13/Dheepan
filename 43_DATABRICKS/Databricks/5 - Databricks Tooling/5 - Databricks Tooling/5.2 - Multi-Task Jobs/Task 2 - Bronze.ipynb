{
 "cells": [
  {
   "cell_type": "code",
   "execution_count": 0,
   "metadata": {
    "application/vnd.databricks.v1+cell": {
     "cellMetadata": {},
     "inputWidgets": {},
     "nuid": "ea611d59-85d3-4afb-aa7e-cb403e85149d",
     "showTitle": false,
     "title": ""
    }
   },
   "outputs": [],
   "source": [
    "%run ../../Includes/Copy-Datasets"
   ]
  },
  {
   "cell_type": "code",
   "execution_count": 0,
   "metadata": {
    "application/vnd.databricks.v1+cell": {
     "cellMetadata": {},
     "inputWidgets": {},
     "nuid": "1b6249ad-df7a-4f1b-bbd3-40acdf7cbde6",
     "showTitle": false,
     "title": ""
    }
   },
   "outputs": [],
   "source": [
    "from pyspark.sql import functions as F"
   ]
  },
  {
   "cell_type": "code",
   "execution_count": 0,
   "metadata": {
    "application/vnd.databricks.v1+cell": {
     "cellMetadata": {},
     "inputWidgets": {},
     "nuid": "9deb3f56-b4ef-4bb6-8da5-049d72bf63c4",
     "showTitle": false,
     "title": ""
    }
   },
   "outputs": [],
   "source": [
    "def process_bronze():\n",
    "  \n",
    "    schema = \"key BINARY, value BINARY, topic STRING, partition LONG, offset LONG, timestamp LONG\"\n",
    "\n",
    "    query = (spark.readStream\n",
    "                        .format(\"cloudFiles\")\n",
    "                        .option(\"cloudFiles.format\", \"json\")\n",
    "                        .schema(schema)\n",
    "                        .load(f\"{dataset_bookstore}/kafka-raw\")\n",
    "                        .withColumn(\"timestamp\", (F.col(\"timestamp\")/1000).cast(\"timestamp\"))  \n",
    "                        .withColumn(\"year_month\", F.date_format(\"timestamp\", \"yyyy-MM\"))\n",
    "                  .writeStream\n",
    "                      .option(\"checkpointLocation\", \"dbfs:/mnt/demo_pro/checkpoints/bronze\")\n",
    "                      .option(\"mergeSchema\", True)\n",
    "                      .partitionBy(\"topic\", \"year_month\")\n",
    "                      .trigger(availableNow=True)\n",
    "                      .table(\"bronze\"))\n",
    "    \n",
    "    query.awaitTermination()"
   ]
  },
  {
   "cell_type": "code",
   "execution_count": 0,
   "metadata": {
    "application/vnd.databricks.v1+cell": {
     "cellMetadata": {},
     "inputWidgets": {},
     "nuid": "f1ac6a64-f7dc-4d62-a66b-814736dd6731",
     "showTitle": false,
     "title": ""
    }
   },
   "outputs": [],
   "source": [
    "process_bronze()"
   ]
  }
 ],
 "metadata": {
  "application/vnd.databricks.v1+notebook": {
   "dashboards": [],
   "language": "python",
   "notebookMetadata": {},
   "notebookName": "Task 2 - Bronze",
   "widgets": {}
  }
 },
 "nbformat": 4,
 "nbformat_minor": 0
}
